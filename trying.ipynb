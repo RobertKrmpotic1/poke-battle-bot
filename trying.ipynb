{
 "cells": [
  {
   "cell_type": "code",
   "execution_count": 4,
   "metadata": {},
   "outputs": [],
   "source": [
    "dict1 = {\"meowthgalar\": {\n",
    "        \"abilities\": {\n",
    "            \"0\": \"Pickup\",\n",
    "            \"1\": \"Tough Claws\"\n",
    "        },\n",
    "        \"baseSpecies\": \"Meowth\",\n",
    "        \"baseStats\": {\n",
    "            \"atk\": 65,\n",
    "            \"def\": 55,\n",
    "            \"hp\": 50,\n",
    "            \"spa\": 40,\n",
    "            \"spd\": 40,\n",
    "            \"spe\": 40\n",
    "        },\n",
    "        \"color\": \"Brown\",\n",
    "        \"eggGroups\": [\n",
    "            \"Field\"\n",
    "        ],\n",
    "        \"evos\": [\n",
    "            \"Perrserker\"\n",
    "        ],\n",
    "        \"forme\": \"Galar\",\n",
    "        \"heightm\": 0.4,\n",
    "        \"name\": \"Meowth-Galar\",\n",
    "        \"num\": 52,\n",
    "        \"types\": [\n",
    "            \"Steel\"\n",
    "        ],\n",
    "        \"weightkg\": 7.5\n",
    "    },\n",
    "    \"normalpoke\":  \"nomral_values\"\n",
    "}"
   ]
  },
  {
   "cell_type": "code",
   "execution_count": 12,
   "metadata": {},
   "outputs": [
    {
     "data": {
      "text/plain": [
       "array([1., 1., 1., 0., 0., 0., 0., 0., 0., 0., 0., 0., 1., 1., 1.])"
      ]
     },
     "execution_count": 12,
     "metadata": {},
     "output_type": "execute_result"
    }
   ],
   "source": [
    "import numpy as np\n",
    "zeroes = np.zeros(9).reshape(3,3).flatten()\n",
    "ones = np.ones(3).reshape(3,1).flatten()\n",
    "\n",
    "np.concatenate([ones,zeroes, ones])"
   ]
  },
  {
   "cell_type": "code",
   "execution_count": 13,
   "metadata": {},
   "outputs": [
    {
     "data": {
      "text/plain": [
       "16"
      ]
     },
     "execution_count": 13,
     "metadata": {},
     "output_type": "execute_result"
    }
   ],
   "source": [
    "type_list = ['BUG', 'DARK', 'DRAGON', 'ELECTRIC', 'FIGHTING', 'FIRE', 'FLYING', 'GHOST', 'GRASS', 'GROUND', 'ICE', 'NORMAL', 'POISON', 'PSYCHIC', 'ROCK', 'WATER']\n",
    "len(type_list)"
   ]
  },
  {
   "cell_type": "code",
   "execution_count": 10,
   "metadata": {},
   "outputs": [
    {
     "data": {
      "text/plain": [
       "False"
      ]
     },
     "execution_count": 10,
     "metadata": {},
     "output_type": "execute_result"
    }
   ],
   "source": [
    "\"abilities\" in dict1[\"meowthgalar\"].items()"
   ]
  },
  {
   "cell_type": "code",
   "execution_count": 19,
   "metadata": {},
   "outputs": [
    {
     "data": {
      "text/plain": [
       "{'normalpoke': 'nomral_values'}"
      ]
     },
     "execution_count": 19,
     "metadata": {},
     "output_type": "execute_result"
    }
   ],
   "source": [
    "new_dict = {key: value for key, value in dict1.items() if \"evos\" not in value}\n",
    "new_dict"
   ]
  },
  {
   "cell_type": "code",
   "execution_count": null,
   "metadata": {},
   "outputs": [],
   "source": []
  }
 ],
 "metadata": {
  "kernelspec": {
   "display_name": "Python 3",
   "language": "python",
   "name": "python3"
  },
  "language_info": {
   "codemirror_mode": {
    "name": "ipython",
    "version": 3
   },
   "file_extension": ".py",
   "mimetype": "text/x-python",
   "name": "python",
   "nbconvert_exporter": "python",
   "pygments_lexer": "ipython3",
   "version": "3.11.2"
  },
  "orig_nbformat": 4
 },
 "nbformat": 4,
 "nbformat_minor": 2
}
