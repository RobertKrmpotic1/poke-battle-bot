{
 "cells": [
  {
   "cell_type": "code",
   "execution_count": 4,
   "metadata": {},
   "outputs": [],
   "source": [
    "dict1 = {\"meowthgalar\": {\n",
    "        \"abilities\": {\n",
    "            \"0\": \"Pickup\",\n",
    "            \"1\": \"Tough Claws\"\n",
    "        },\n",
    "        \"baseSpecies\": \"Meowth\",\n",
    "        \"baseStats\": {\n",
    "            \"atk\": 65,\n",
    "            \"def\": 55,\n",
    "            \"hp\": 50,\n",
    "            \"spa\": 40,\n",
    "            \"spd\": 40,\n",
    "            \"spe\": 40\n",
    "        },\n",
    "        \"color\": \"Brown\",\n",
    "        \"eggGroups\": [\n",
    "            \"Field\"\n",
    "        ],\n",
    "        \"evos\": [\n",
    "            \"Perrserker\"\n",
    "        ],\n",
    "        \"forme\": \"Galar\",\n",
    "        \"heightm\": 0.4,\n",
    "        \"name\": \"Meowth-Galar\",\n",
    "        \"num\": 52,\n",
    "        \"types\": [\n",
    "            \"Steel\"\n",
    "        ],\n",
    "        \"weightkg\": 7.5\n",
    "    },\n",
    "    \"normalpoke\":  \"nomral_values\"\n",
    "}"
   ]
  },
  {
   "cell_type": "code",
   "execution_count": 5,
   "metadata": {},
   "outputs": [
    {
     "data": {
      "text/plain": [
       "2"
      ]
     },
     "execution_count": 5,
     "metadata": {},
     "output_type": "execute_result"
    }
   ],
   "source": [
    "len(dict1)"
   ]
  },
  {
   "cell_type": "code",
   "execution_count": 10,
   "metadata": {},
   "outputs": [
    {
     "data": {
      "text/plain": [
       "False"
      ]
     },
     "execution_count": 10,
     "metadata": {},
     "output_type": "execute_result"
    }
   ],
   "source": [
    "\"abilities\" in dict1[\"meowthgalar\"].items()"
   ]
  },
  {
   "cell_type": "code",
   "execution_count": 19,
   "metadata": {},
   "outputs": [
    {
     "data": {
      "text/plain": [
       "{'normalpoke': 'nomral_values'}"
      ]
     },
     "execution_count": 19,
     "metadata": {},
     "output_type": "execute_result"
    }
   ],
   "source": [
    "new_dict = {key: value for key, value in dict1.items() if \"evos\" not in value}\n",
    "new_dict"
   ]
  },
  {
   "cell_type": "code",
   "execution_count": null,
   "metadata": {},
   "outputs": [],
   "source": []
  }
 ],
 "metadata": {
  "kernelspec": {
   "display_name": "Python 3",
   "language": "python",
   "name": "python3"
  },
  "language_info": {
   "codemirror_mode": {
    "name": "ipython",
    "version": 3
   },
   "file_extension": ".py",
   "mimetype": "text/x-python",
   "name": "python",
   "nbconvert_exporter": "python",
   "pygments_lexer": "ipython3",
   "version": "3.8.0"
  },
  "orig_nbformat": 4
 },
 "nbformat": 4,
 "nbformat_minor": 2
}
