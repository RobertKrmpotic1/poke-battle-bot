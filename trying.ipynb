{
 "cells": [
  {
   "cell_type": "code",
   "execution_count": null,
   "metadata": {},
   "outputs": [],
   "source": [
    "dict1 = {\"meowthgalar\": {\n",
    "        \"abilities\": {\n",
    "            \"0\": \"Pickup\",\n",
    "            \"1\": \"Tough Claws\"\n",
    "        },\n",
    "        \"baseSpecies\": \"Meowth\",\n",
    "        \"baseStats\": {\n",
    "            \"atk\": 65,\n",
    "            \"def\": 55,\n",
    "            \"hp\": 50,\n",
    "            \"spa\": 40,\n",
    "            \"spd\": 40,\n",
    "            \"spe\": 40\n",
    "        },\n",
    "        \"color\": \"Brown\",\n",
    "        \"eggGroups\": [\n",
    "            \"Field\"\n",
    "        ],\n",
    "        \"evos\": [\n",
    "            \"Perrserker\"\n",
    "        ],\n",
    "        \"forme\": \"Galar\",\n",
    "        \"heightm\": 0.4,\n",
    "        \"name\": \"Meowth-Galar\",\n",
    "        \"num\": 52,\n",
    "        \"types\": [\n",
    "            \"Steel\"\n",
    "        ],\n",
    "        \"weightkg\": 7.5\n",
    "    },\n",
    "    \"normalpoke\":  \"nomral_values\"\n",
    "}"
   ]
  },
  {
   "cell_type": "code",
   "execution_count": null,
   "metadata": {},
   "outputs": [],
   "source": [
    "import numpy as np\n",
    "zeroes = np.zeros(9).reshape(3,3).flatten()\n",
    "ones = np.ones(3).reshape(3,1).flatten()\n",
    "\n",
    "np.concatenate([ones,zeroes, ones])"
   ]
  },
  {
   "cell_type": "code",
   "execution_count": null,
   "metadata": {},
   "outputs": [],
   "source": [
    "type_list = ['BUG', 'DARK', 'DRAGON', 'ELECTRIC', 'FIGHTING', 'FIRE', 'FLYING', 'GHOST', 'GRASS', 'GROUND', 'ICE', 'NORMAL', 'POISON', 'PSYCHIC', 'ROCK', 'WATER']\n",
    "len(type_list)"
   ]
  },
  {
   "cell_type": "code",
   "execution_count": null,
   "metadata": {},
   "outputs": [],
   "source": [
    "from neural_network import DriverNetwork\n",
    "net = DriverNetwork()\n",
    "net.initilize_random(input_shape=38,output_shape=5)\n",
    "net.model.summary()"
   ]
  },
  {
   "cell_type": "code",
   "execution_count": null,
   "metadata": {},
   "outputs": [],
   "source": [
    "import numpy as np\n",
    "net.model.predict(np.zeros(38).reshape(1,38))"
   ]
  },
  {
   "cell_type": "code",
   "execution_count": null,
   "metadata": {},
   "outputs": [],
   "source": [
    "np.array([1,2,3,4]).reshape(1,4).reshape(4)"
   ]
  },
  {
   "cell_type": "code",
   "execution_count": null,
   "metadata": {},
   "outputs": [],
   "source": [
    "list1= [1,2,3]\n",
    "list1.append(4)"
   ]
  },
  {
   "cell_type": "code",
   "execution_count": null,
   "metadata": {},
   "outputs": [],
   "source": [
    "len(np.concatenate((np.array([1,2]),np.array([1,2]))))"
   ]
  },
  {
   "cell_type": "code",
   "execution_count": null,
   "metadata": {},
   "outputs": [],
   "source": [
    "import tensorflow as tf \n",
    "tf.config.list_physical_devices('GPU')\n"
   ]
  },
  {
   "cell_type": "code",
   "execution_count": null,
   "metadata": {},
   "outputs": [],
   "source": [
    "import os\n",
    "\n",
    "def count_files_in_folder(folder_path):\n",
    "    try:\n",
    "        # Get a list of all files and directories in the folder\n",
    "        file_list = os.listdir(folder_path)\n",
    "\n",
    "        # Filter out directories and get the count of files\n",
    "        file_count = sum(1 for f in file_list if os.path.isfile(os.path.join(folder_path, f)))\n",
    "\n",
    "        return file_count\n",
    "\n",
    "    except FileNotFoundError:\n",
    "        print(f\"Folder '{folder_path}' not found.\")\n",
    "        return None\n",
    "\n",
    "folder_path = \"replays\"  # Replace with the actual folder path you want to check\n",
    "\n",
    "file_count = count_files_in_folder(folder_path)\n",
    "file_count"
   ]
  },
  {
   "cell_type": "code",
   "execution_count": null,
   "metadata": {},
   "outputs": [],
   "source": [
    "import numpy as np\n",
    "np.delete(np.array([1,2,3,4,5,0]), 5)"
   ]
  },
  {
   "cell_type": "code",
   "execution_count": null,
   "metadata": {},
   "outputs": [],
   "source": [
    "team1 = \"\"\"Bulbasaur @ Leftovers\n",
    "Ability: Chlorophyll\n",
    "EVs: 252 HP / 252 Def / 4 SpD\n",
    "Bold Nature\n",
    "- Giga Drain\n",
    "- Sludge Bomb\n",
    "- Synthesis\n",
    "- Toxic\n",
    "\n",
    "Ivysaur @ Eviolite\n",
    "Ability: Chlorophyll\n",
    "EVs: 252 HP / 252 Def / 4 SpD\n",
    "Bold Nature\n",
    "- Giga Drain\n",
    "- Sludge Bomb\n",
    "- Synthesis\n",
    "- Sleep Powder\n",
    "\n",
    "Venusaur @ Leftovers\n",
    "Ability: Chlorophyll\n",
    "EVs: 252 HP / 252 Def / 4 SpD\n",
    "Bold Nature\n",
    "- Giga Drain\n",
    "- Sludge Bomb\n",
    "- Synthesis\n",
    "- Sleep Powder\n",
    "\n",
    "Charmander @ Choice Scarf\n",
    "Ability: Blaze\n",
    "EVs: 252 Atk / 4 SpD / 252 Spe\n",
    "Jolly Nature\n",
    "- Flare Blitz\n",
    "- Dragon Claw\n",
    "- Thunder Punch\n",
    "\n",
    "Charmeleon @ Choice Band\n",
    "Ability: Blaze\n",
    "EVs: 252 Atk / 4 SpD / 252 Spe\n",
    "Jolly Nature\n",
    "- Flare Blitz\n",
    "- Dragon Claw\n",
    "- Thunder Punch\n",
    "\n",
    "Charizard @ Leftovers\n",
    "Ability: Blaze\n",
    "EVs: 252 SpA / 4 SpD / 252 Spe\n",
    "Timid Nature\n",
    "- Fire Blast\n",
    "- Air Slash\n",
    "- Roost\n",
    "- Focus Blast\"\"\""
   ]
  },
  {
   "cell_type": "code",
   "execution_count": null,
   "metadata": {},
   "outputs": [],
   "source": [
    "from subprocess import check_output, call, run\n",
    "print( run(f\"node pokemon-showdown generate-team gen7anythinggoes\", shell=True, capture_output=True))"
   ]
  },
  {
   "cell_type": "markdown",
   "metadata": {},
   "source": []
  },
  {
   "cell_type": "code",
   "execution_count": null,
   "metadata": {},
   "outputs": [],
   "source": [
    "import subprocess\n",
    "p = subprocess.Popen(['/usr/local/bin/node', '/Users/Brett/scripts/hello.js', 'Brett'], stdout=subprocess.PIPE)\n",
    "out = p.stdout.read()\n",
    "print(out)"
   ]
  },
  {
   "cell_type": "code",
   "execution_count": null,
   "metadata": {},
   "outputs": [],
   "source": [
    "folder_path = r\"C:/Users/Robert/Downloads/Cheating is learning/pokemon-showdown\"\n",
    "#folder_path = r\"C:\\Users\\diana\\Documents\\Python projects\\pokemon\\pokemon-showdown\"\n",
    "gen_node_command = 'node pokemon-showdown generate-team gen1ou'\n",
    "val_node_command = 'node pokemon-showdown validate-team gen1anythinggoes '\n",
    "def generate_team():\n",
    "    return subprocess.check_output(f'cd /d {folder_path} && {gen_node_command}', shell=True)\n",
    "\n",
    "def validate_team(team):\n",
    "    return subprocess.check_output(f'cd /d {folder_path} && {val_node_command}', shell=True, input=team)"
   ]
  },
  {
   "cell_type": "code",
   "execution_count": 1,
   "metadata": {},
   "outputs": [],
   "source": [
    "def generate_random_team_showdown(battle_format:str = \"gen1ou\") ->str:\n",
    "    ''' Generate a random team directly from showdown server '''\n",
    "    #folder_path = r\"C:\\Users\\diana\\Documents\\Python projects\\pokemon\\pokemon-showdown\"\n",
    "    folder_path = r\"C:/Users/Robert/Downloads/Cheating is learning/pokemon-showdown\"\n",
    "    gen_node_command = f'node pokemon-showdown generate-team {battle_format}'\n",
    "    val_node_command = f'node pokemon-showdown validate-team {battle_format} '\n",
    "    \n",
    "    \n",
    "    while True:\n",
    "        team = subprocess.check_output(f'cd /d {folder_path} && {gen_node_command}', shell=True)#.decode()\n",
    "        try:\n",
    "            subprocess.check_output(f'cd /d {folder_path} && {val_node_command} ', shell=True, input=team).decode()\n",
    "            #print(\"valid team\")\n",
    "            return team.decode()\n",
    "        except:\n",
    "            print(\"invalid team\")\n",
    "            pass"
   ]
  },
  {
   "cell_type": "code",
   "execution_count": 16,
   "metadata": {},
   "outputs": [
    {
     "data": {
      "text/plain": [
       "[('SimpleHeuristics 2', 1.0), ('SimpleHeuristics 4', 1.0)]"
      ]
     },
     "execution_count": 16,
     "metadata": {},
     "output_type": "execute_result"
    }
   ],
   "source": [
    "data = {\n",
    "    'SimpleHeuristics 1': 0.0,\n",
    "    'SimpleHeuristics 2': 1.0,\n",
    "    'SimpleHeuristics 3': 0.0,\n",
    "    'SimpleHeuristics 4': 1.0,\n",
    "    'SimpleHeuristics 5': 1.0\n",
    "}\n",
    "\n",
    "top_2 = heapq.nlargest(2, data.items(), key=lambda item: item[1])\n",
    "top_2"
   ]
  },
  {
   "cell_type": "code",
   "execution_count": 18,
   "metadata": {},
   "outputs": [
    {
     "name": "stdout",
     "output_type": "stream",
     "text": [
      "{'SimpleHeuristics 1': 3.0, 'SimpleHeuristics 2': 1.0, 'SimpleHeuristics 3': 3.0, 'SimpleHeuristics 4': 1.0, 'SimpleHeuristics 5': 3.0}\n"
     ]
    },
    {
     "data": {
      "text/plain": [
       "['SimpleHeuristics 1', 'SimpleHeuristics 3']"
      ]
     },
     "execution_count": 18,
     "metadata": {},
     "output_type": "execute_result"
    }
   ],
   "source": [
    "import heapq\n",
    "results = {'SimpleHeuristics 1': {'SimpleHeuristics 1': None, 'SimpleHeuristics 2': 1.0, 'SimpleHeuristics 3': 0.0, 'SimpleHeuristics 4': 1.0, 'SimpleHeuristics 5': 1.0}, 'SimpleHeuristics 2': {'SimpleHeuristics 1': 0.0, 'SimpleHeuristics 2': None, 'SimpleHeuristics 3': 1.0, 'SimpleHeuristics 4': 0.0, 'SimpleHeuristics 5': 0.0}, 'SimpleHeuristics 3': {'SimpleHeuristics 1': 1.0, 'SimpleHeuristics 2': 0.0, 'SimpleHeuristics 3': None, 'SimpleHeuristics 4': 1.0, 'SimpleHeuristics 5': 1.0}, 'SimpleHeuristics 4': {'SimpleHeuristics 1': 0.0, 'SimpleHeuristics 2': 1.0, 'SimpleHeuristics 3': 0.0, 'SimpleHeuristics 4': None, 'SimpleHeuristics 5': 0.0}, 'SimpleHeuristics 5': {'SimpleHeuristics 1': 0.0, 'SimpleHeuristics 2': 1.0, 'SimpleHeuristics 3': 1.0, 'SimpleHeuristics 4': 1.0, 'SimpleHeuristics 5': None}}\n",
    "parsed_results = {key:sum(value for value in results[key].values() if value is not None) for key in results}\n",
    "top_2 = [item[0] for item in heapq.nlargest(2, parsed_results.items(), key=lambda item: item[1])]\n",
    "print(parsed_results)\n",
    "\n",
    "top_2"
   ]
  },
  {
   "cell_type": "code",
   "execution_count": null,
   "metadata": {},
   "outputs": [],
   "source": [
    "\n",
    "for x in range(10):\n",
    "    team = generate_team()\n",
    "    try:\n",
    "            validate_team(team)\n",
    "    except Exception as e:\n",
    "            print(subprocess.run(f'cd /d {folder_path} && {val_node_command}', shell=True, input=team, capture_output=True))\n",
    "            print(\"Error validating team... skipping to next\")\n",
    "            print(f\"Error: {e}\")\n"
   ]
  },
  {
   "cell_type": "code",
   "execution_count": null,
   "metadata": {},
   "outputs": [],
   "source": [
    "import numpy as np\n",
    "\n",
    "from poke_env.teambuilder import Teambuilder\n",
    "\n",
    "\n",
    "class MyTeamBuilder(Teambuilder):\n",
    "    def __init__(self, team:str):\n",
    "        #self.team = self.join_team(self.parse_showdown_team(team))\n",
    "        self.team = team\n",
    "    def yield_team(self):\n",
    "        return self.team"
   ]
  },
  {
   "cell_type": "code",
   "execution_count": null,
   "metadata": {},
   "outputs": [],
   "source": []
  },
  {
   "cell_type": "code",
   "execution_count": null,
   "metadata": {},
   "outputs": [],
   "source": [
    "import subprocess\n",
    "from poke_env.teambuilder import Teambuilder\n",
    "team = generate_team().decode()\n",
    "tb = MyTeamBuilder(team)\n",
    "tb.team"
   ]
  },
  {
   "cell_type": "code",
   "execution_count": null,
   "metadata": {},
   "outputs": [],
   "source": [
    "tb.yield_team()"
   ]
  },
  {
   "cell_type": "code",
   "execution_count": null,
   "metadata": {},
   "outputs": [],
   "source": [
    "validate_team(team)"
   ]
  },
  {
   "cell_type": "code",
   "execution_count": null,
   "metadata": {},
   "outputs": [],
   "source": [
    "import subprocess\n",
    "while True:\n",
    "    team = generate_team()\n",
    "    try:\n",
    "        print(str(validate_team(team)))\n",
    "        break\n",
    "    except:\n",
    "        print(\"invalid team\")\n",
    "        pass"
   ]
  },
  {
   "cell_type": "code",
   "execution_count": 48,
   "metadata": {},
   "outputs": [
    {
     "data": {
      "text/plain": [
       "6"
      ]
     },
     "execution_count": 48,
     "metadata": {},
     "output_type": "execute_result"
    }
   ],
   "source": [
    "new_list = [1,2,3,4,5,6,7]\n",
    "big_list = []\n",
    "import random\n",
    "new_list.pop(random.choice(new_list))"
   ]
  },
  {
   "cell_type": "code",
   "execution_count": 29,
   "metadata": {},
   "outputs": [],
   "source": [
    "new_list.append(5)"
   ]
  },
  {
   "cell_type": "code",
   "execution_count": 49,
   "metadata": {},
   "outputs": [
    {
     "data": {
      "text/plain": [
       "[1, 2, 3, 4, 5, 7]"
      ]
     },
     "execution_count": 49,
     "metadata": {},
     "output_type": "execute_result"
    }
   ],
   "source": [
    "new_list"
   ]
  },
  {
   "cell_type": "code",
   "execution_count": 31,
   "metadata": {},
   "outputs": [],
   "source": [
    "list1 = [1,1,1]\n",
    "new_list += list1"
   ]
  },
  {
   "cell_type": "code",
   "execution_count": 59,
   "metadata": {},
   "outputs": [
    {
     "data": {
      "text/plain": [
       "[1, 3, 4]"
      ]
     },
     "execution_count": 59,
     "metadata": {},
     "output_type": "execute_result"
    }
   ],
   "source": [
    "new_list"
   ]
  },
  {
   "cell_type": "code",
   "execution_count": 58,
   "metadata": {},
   "outputs": [
    {
     "data": {
      "text/plain": [
       "1"
      ]
     },
     "execution_count": 58,
     "metadata": {},
     "output_type": "execute_result"
    }
   ],
   "source": [
    "new_list[0]"
   ]
  },
  {
   "cell_type": "markdown",
   "metadata": {},
   "source": []
  },
  {
   "cell_type": "markdown",
   "metadata": {},
   "source": []
  }
 ],
 "metadata": {
  "kernelspec": {
   "display_name": "Python 3",
   "language": "python",
   "name": "python3"
  },
  "language_info": {
   "codemirror_mode": {
    "name": "ipython",
    "version": 3
   },
   "file_extension": ".py",
   "mimetype": "text/x-python",
   "name": "python",
   "nbconvert_exporter": "python",
   "pygments_lexer": "ipython3",
   "version": "3.8.0"
  },
  "orig_nbformat": 4
 },
 "nbformat": 4,
 "nbformat_minor": 2
}
