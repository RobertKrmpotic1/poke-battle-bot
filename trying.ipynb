{
 "cells": [
  {
   "cell_type": "code",
   "execution_count": null,
   "metadata": {},
   "outputs": [],
   "source": [
    "dict1 = {\"meowthgalar\": {\n",
    "        \"abilities\": {\n",
    "            \"0\": \"Pickup\",\n",
    "            \"1\": \"Tough Claws\"\n",
    "        },\n",
    "        \"baseSpecies\": \"Meowth\",\n",
    "        \"baseStats\": {\n",
    "            \"atk\": 65,\n",
    "            \"def\": 55,\n",
    "            \"hp\": 50,\n",
    "            \"spa\": 40,\n",
    "            \"spd\": 40,\n",
    "            \"spe\": 40\n",
    "        },\n",
    "        \"color\": \"Brown\",\n",
    "        \"eggGroups\": [\n",
    "            \"Field\"\n",
    "        ],\n",
    "        \"evos\": [\n",
    "            \"Perrserker\"\n",
    "        ],\n",
    "        \"forme\": \"Galar\",\n",
    "        \"heightm\": 0.4,\n",
    "        \"name\": \"Meowth-Galar\",\n",
    "        \"num\": 52,\n",
    "        \"types\": [\n",
    "            \"Steel\"\n",
    "        ],\n",
    "        \"weightkg\": 7.5\n",
    "    },\n",
    "    \"normalpoke\":  \"nomral_values\"\n",
    "}"
   ]
  },
  {
   "cell_type": "code",
   "execution_count": null,
   "metadata": {},
   "outputs": [],
   "source": [
    "import numpy as np\n",
    "zeroes = np.zeros(9).reshape(3,3).flatten()\n",
    "ones = np.ones(3).reshape(3,1).flatten()\n",
    "\n",
    "np.concatenate([ones,zeroes, ones])"
   ]
  },
  {
   "cell_type": "code",
   "execution_count": null,
   "metadata": {},
   "outputs": [],
   "source": [
    "type_list = ['BUG', 'DARK', 'DRAGON', 'ELECTRIC', 'FIGHTING', 'FIRE', 'FLYING', 'GHOST', 'GRASS', 'GROUND', 'ICE', 'NORMAL', 'POISON', 'PSYCHIC', 'ROCK', 'WATER']\n",
    "len(type_list)"
   ]
  },
  {
   "cell_type": "code",
   "execution_count": 1,
   "metadata": {},
   "outputs": [
    {
     "name": "stdout",
     "output_type": "stream",
     "text": [
      "Model: \"sequential\"\n",
      "_________________________________________________________________\n",
      " Layer (type)                Output Shape              Param #   \n",
      "=================================================================\n",
      " dense (Dense)               (None, 10)                390       \n",
      "                                                                 \n",
      " dense_1 (Dense)             (None, 5)                 55        \n",
      "                                                                 \n",
      "=================================================================\n",
      "Total params: 445\n",
      "Trainable params: 445\n",
      "Non-trainable params: 0\n",
      "_________________________________________________________________\n"
     ]
    }
   ],
   "source": [
    "from neural_network import DriverNetwork\n",
    "net = DriverNetwork()\n",
    "net.initilize_random(input_shape=38,output_shape=5)\n",
    "net.model.summary()"
   ]
  },
  {
   "cell_type": "code",
   "execution_count": 8,
   "metadata": {},
   "outputs": [
    {
     "name": "stdout",
     "output_type": "stream",
     "text": [
      "1/1 [==============================] - 0s 98ms/step\n"
     ]
    },
    {
     "data": {
      "text/plain": [
       "array([[0., 0., 0., 0., 0.]], dtype=float32)"
      ]
     },
     "execution_count": 8,
     "metadata": {},
     "output_type": "execute_result"
    }
   ],
   "source": [
    "import numpy as np\n",
    "net.model.predict(np.zeros(38).reshape(1,38))"
   ]
  },
  {
   "cell_type": "code",
   "execution_count": 11,
   "metadata": {},
   "outputs": [
    {
     "data": {
      "text/plain": [
       "array([1, 2, 3, 4])"
      ]
     },
     "execution_count": 11,
     "metadata": {},
     "output_type": "execute_result"
    }
   ],
   "source": [
    "np.array([1,2,3,4]).reshape(1,4).reshape(4)"
   ]
  },
  {
   "cell_type": "code",
   "execution_count": 12,
   "metadata": {},
   "outputs": [],
   "source": [
    "list1= [1,2,3]\n",
    "list1.append(4)"
   ]
  },
  {
   "cell_type": "code",
   "execution_count": 16,
   "metadata": {},
   "outputs": [
    {
     "data": {
      "text/plain": [
       "4"
      ]
     },
     "execution_count": 16,
     "metadata": {},
     "output_type": "execute_result"
    }
   ],
   "source": [
    "len(np.concatenate((np.array([1,2]),np.array([1,2]))))"
   ]
  },
  {
   "cell_type": "code",
   "execution_count": 18,
   "metadata": {},
   "outputs": [
    {
     "data": {
      "text/plain": [
       "[]"
      ]
     },
     "execution_count": 18,
     "metadata": {},
     "output_type": "execute_result"
    }
   ],
   "source": [
    "import tensorflow as tf \n",
    "tf.config.list_physical_devices('GPU')\n"
   ]
  },
  {
   "cell_type": "code",
   "execution_count": 19,
   "metadata": {},
   "outputs": [
    {
     "data": {
      "text/plain": [
       "1554"
      ]
     },
     "execution_count": 19,
     "metadata": {},
     "output_type": "execute_result"
    }
   ],
   "source": [
    "import os\n",
    "\n",
    "def count_files_in_folder(folder_path):\n",
    "    try:\n",
    "        # Get a list of all files and directories in the folder\n",
    "        file_list = os.listdir(folder_path)\n",
    "\n",
    "        # Filter out directories and get the count of files\n",
    "        file_count = sum(1 for f in file_list if os.path.isfile(os.path.join(folder_path, f)))\n",
    "\n",
    "        return file_count\n",
    "\n",
    "    except FileNotFoundError:\n",
    "        print(f\"Folder '{folder_path}' not found.\")\n",
    "        return None\n",
    "\n",
    "folder_path = \"replays\"  # Replace with the actual folder path you want to check\n",
    "\n",
    "file_count = count_files_in_folder(folder_path)\n",
    "file_count"
   ]
  },
  {
   "cell_type": "code",
   "execution_count": null,
   "metadata": {},
   "outputs": [],
   "source": [
    "import numpy as np\n",
    "np.delete(np.array([1,2,3,4,5,0]), 5)"
   ]
  },
  {
   "cell_type": "code",
   "execution_count": 43,
   "metadata": {},
   "outputs": [],
   "source": [
    "team1 = \"\"\"Bulbasaur @ Leftovers\n",
    "Ability: Chlorophyll\n",
    "EVs: 252 HP / 252 Def / 4 SpD\n",
    "Bold Nature\n",
    "- Giga Drain\n",
    "- Sludge Bomb\n",
    "- Synthesis\n",
    "- Toxic\n",
    "\n",
    "Ivysaur @ Eviolite\n",
    "Ability: Chlorophyll\n",
    "EVs: 252 HP / 252 Def / 4 SpD\n",
    "Bold Nature\n",
    "- Giga Drain\n",
    "- Sludge Bomb\n",
    "- Synthesis\n",
    "- Sleep Powder\n",
    "\n",
    "Venusaur @ Leftovers\n",
    "Ability: Chlorophyll\n",
    "EVs: 252 HP / 252 Def / 4 SpD\n",
    "Bold Nature\n",
    "- Giga Drain\n",
    "- Sludge Bomb\n",
    "- Synthesis\n",
    "- Sleep Powder\n",
    "\n",
    "Charmander @ Choice Scarf\n",
    "Ability: Blaze\n",
    "EVs: 252 Atk / 4 SpD / 252 Spe\n",
    "Jolly Nature\n",
    "- Flare Blitz\n",
    "- Dragon Claw\n",
    "- Thunder Punch\n",
    "\n",
    "Charmeleon @ Choice Band\n",
    "Ability: Blaze\n",
    "EVs: 252 Atk / 4 SpD / 252 Spe\n",
    "Jolly Nature\n",
    "- Flare Blitz\n",
    "- Dragon Claw\n",
    "- Thunder Punch\n",
    "\n",
    "Charizard @ Leftovers\n",
    "Ability: Blaze\n",
    "EVs: 252 SpA / 4 SpD / 252 Spe\n",
    "Timid Nature\n",
    "- Fire Blast\n",
    "- Air Slash\n",
    "- Roost\n",
    "- Focus Blast\"\"\""
   ]
  },
  {
   "cell_type": "code",
   "execution_count": 13,
   "metadata": {},
   "outputs": [
    {
     "name": "stdout",
     "output_type": "stream",
     "text": [
      "CompletedProcess(args='node pokemon-showdown generate-team gen7anythinggoes', returncode=1, stdout=b'', stderr=b\"node:internal/modules/cjs/loader:1051\\r\\n  throw err;\\r\\n  ^\\r\\n\\r\\nError: Cannot find module 'c:\\\\Users\\\\Robert\\\\Downloads\\\\Cheating is learning\\\\Pokebot\\\\pokemon-showdown'\\r\\n\\x1b[90m    at Module._resolveFilename (node:internal/modules/cjs/loader:1048:15)\\x1b[39m\\r\\n\\x1b[90m    at Module._load (node:internal/modules/cjs/loader:901:27)\\x1b[39m\\r\\n\\x1b[90m    at Function.executeUserEntryPoint [as runMain] (node:internal/modules/run_main:83:12)\\x1b[39m\\r\\n\\x1b[90m    at node:internal/main/run_main_module:23:47\\x1b[39m {\\r\\n  code: \\x1b[32m'MODULE_NOT_FOUND'\\x1b[39m,\\r\\n  requireStack: []\\r\\n}\\r\\n\\r\\nNode.js v20.4.0\\r\\n\")\n"
     ]
    }
   ],
   "source": [
    "from subprocess import check_output, call, run\n",
    "print( run(f\"node pokemon-showdown generate-team gen7anythinggoes\", shell=True, capture_output=True))"
   ]
  },
  {
   "cell_type": "markdown",
   "metadata": {},
   "source": []
  },
  {
   "cell_type": "code",
   "execution_count": null,
   "metadata": {},
   "outputs": [],
   "source": [
    "import subprocess\n",
    "p = subprocess.Popen(['/usr/local/bin/node', '/Users/Brett/scripts/hello.js', 'Brett'], stdout=subprocess.PIPE)\n",
    "out = p.stdout.read()\n",
    "print(out)"
   ]
  },
  {
   "cell_type": "code",
   "execution_count": 52,
   "metadata": {},
   "outputs": [],
   "source": [
    "folder_path = r\"C:/Users/Robert/Downloads/Cheating is learning/pokemon-showdown\"\n",
    "gen_node_command = 'node pokemon-showdown generate-team gen7anythinggoes'\n",
    "val_node_command = 'node pokemon-showdown validate-team gen7anythinggoes '\n",
    "def generate_team():\n",
    "    return subprocess.check_output(f'cd /d {folder_path} && {gen_node_command}', shell=True)\n",
    "\n",
    "def validate_team(team):\n",
    "    return subprocess.check_output(f'cd /d {folder_path} && {val_node_command}', shell=True, input=team)"
   ]
  },
  {
   "cell_type": "code",
   "execution_count": 53,
   "metadata": {},
   "outputs": [],
   "source": [
    "import subprocess\n",
    "team = generate_team()"
   ]
  },
  {
   "cell_type": "code",
   "execution_count": 54,
   "metadata": {},
   "outputs": [
    {
     "data": {
      "text/plain": [
       "b''"
      ]
     },
     "execution_count": 54,
     "metadata": {},
     "output_type": "execute_result"
    }
   ],
   "source": [
    "validate_team(team)"
   ]
  },
  {
   "cell_type": "code",
   "execution_count": 59,
   "metadata": {},
   "outputs": [
    {
     "data": {
      "text/plain": [
       "\"b''\""
      ]
     },
     "execution_count": 59,
     "metadata": {},
     "output_type": "execute_result"
    }
   ],
   "source": [
    "str(validate_team(b'Hitmontop||LifeOrb|Intimidate|closecombat,suckerpunch,stoneedge,toxic||85,85,85,85,85,85|M|||87|]Scolipede||LifeOrb|SpeedBoost|swordsdance,megahorn,poisonjab,earthquake||85,85,85,85,85,85||||82|]Ho-Oh||Leftovers|Regenerator|toxic,bravebird,roost,sacredfire||85,85,85,85,85,85|N|||74|]Magcargo||WhiteHerb|FlameBody|fireblast,shellsmash,ancientpower,hiddenpowergrass||85,,85,85,85,85||30,0,,30,,||90|]Qwilfish||BlackSludge|Intimidate|spikes,liquidation,painsplit,toxicspikes||85,85,85,85,85,85||||88|]Sharpedo||Sharpedonite|SpeedBoost|destinybond,icefang,waterfall,crunch||85,85,85,85,85,85||||82|\\n'))"
   ]
  },
  {
   "cell_type": "markdown",
   "metadata": {},
   "source": []
  }
 ],
 "metadata": {
  "kernelspec": {
   "display_name": "Python 3",
   "language": "python",
   "name": "python3"
  },
  "language_info": {
   "codemirror_mode": {
    "name": "ipython",
    "version": 3
   },
   "file_extension": ".py",
   "mimetype": "text/x-python",
   "name": "python",
   "nbconvert_exporter": "python",
   "pygments_lexer": "ipython3",
   "version": "3.8.0"
  },
  "orig_nbformat": 4
 },
 "nbformat": 4,
 "nbformat_minor": 2
}
